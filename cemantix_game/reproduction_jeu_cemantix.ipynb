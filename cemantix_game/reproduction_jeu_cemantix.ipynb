{
 "cells": [
  {
   "cell_type": "markdown",
   "id": "4d265d3e",
   "metadata": {},
   "source": [
    "Le but de cet exercice est de reproduire le jeu Cémantix"
   ]
  },
  {
   "cell_type": "code",
   "execution_count": null,
   "id": "a233f389",
   "metadata": {},
   "outputs": [],
   "source": [
    "import gensim\n",
    "import random"
   ]
  },
  {
   "cell_type": "code",
   "execution_count": null,
   "id": "d8bf1b07",
   "metadata": {},
   "outputs": [],
   "source": [
    "# Modèles disponibles à https://fauconnier.github.io/#data\n",
    "from gensim.models import KeyedVectors\n",
    "\n",
    "model = KeyedVectors.load_word2vec_format(\"frWac_non_lem_no_postag_no_phrase_200_cbow_cut100.bin\", binary=True, unicode_errors=\"ignore\")"
   ]
  },
  {
   "cell_type": "code",
   "execution_count": null,
   "id": "656e84df",
   "metadata": {
    "scrolled": true
   },
   "outputs": [],
   "source": [
    "# Définir le mot à trouver\n",
    "keys = list(model.key_to_index.keys()) # liste tous les termes présents dans le modèle\n",
    "#random.seed(42) # Seed pour développer le jeu et ne pas sélectionner un nouveau mot à chaque exécution du code.tester de nouveaux mots\n",
    "notre_mot = random.choice(keys) # sélectionner un nouveau mot à chaque exécution\n",
    "#print(notre_mot)\n",
    "#model.most_similar(\"tendue\")"
   ]
  },
  {
   "cell_type": "code",
   "execution_count": null,
   "id": "0c78e82a",
   "metadata": {},
   "outputs": [],
   "source": [
    "while True:\n",
    "    entree = input(\"Entrez un mot : \")\n",
    "    \n",
    "    # Vérifier si le mot entré est dans le vocabulaire du modèle\n",
    "    if entree not in model:\n",
    "        print(\"Le mot n'est pas dans le vocabulaire.\")\n",
    "        continue\n",
    "    \n",
    "    # Comparer le mot entré avec le mot à deviner en utilisant la similarité cosinus\n",
    "    similarity_score = model.similarity(entree, notre_mot)\n",
    "    \n",
    "    # Si le mot entré est idnetique au mot à deviner, le joueur a gagné et le jeu est terminé\n",
    "    if entree == notre_mot:\n",
    "        tentatives += 1 # incrémenter cette dernière tentative\n",
    "        print(\"Bravo ! Vous avez deviné le mot en\", tentatives, \"tentatives ! \\U0001F973 \\U0001F973 \\U0001F973 \")\n",
    "        break\n",
    "    # Afficher si le mot entré est proche ou non du mot à deviner.\n",
    "    elif similarity_score >=0.8:\n",
    "        print(f\"Vous êtes très proche ! \\U0001F929 {similarity_score:.2f}\")   \n",
    "    elif similarity_score >= 0.6:\n",
    "        print(f\"Vous vous rapprochez ! \\U0001F609 {similarity_score:.2f}\")\n",
    "    elif similarity_score >= 0.4:\n",
    "        print(f\"Vous êtes sur la bonne voie, continuez ! \\U0001F642 {similarity_score:.2f}\")\n",
    "    else:\n",
    "        print(f\"Vous êtes encore loin du mot à deviner. \\U0001F615 {similarity_score:.2f}\")    \n",
    "    tentatives += 1 # incrémenter le compteur de tentatives à chaque essai"
   ]
  }
 ],
 "metadata": {
  "kernelspec": {
   "display_name": "Python 3 (ipykernel)",
   "language": "python",
   "name": "python3"
  },
  "language_info": {
   "codemirror_mode": {
    "name": "ipython",
    "version": 3
   },
   "file_extension": ".py",
   "mimetype": "text/x-python",
   "name": "python",
   "nbconvert_exporter": "python",
   "pygments_lexer": "ipython3",
   "version": "3.10.12"
  }
 },
 "nbformat": 4,
 "nbformat_minor": 5
}
